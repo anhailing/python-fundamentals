{
 "cells": [
  {
   "cell_type": "markdown",
   "id": "actual-product",
   "metadata": {},
   "source": [
    "### Solutions"
   ]
  },
  {
   "cell_type": "markdown",
   "id": "choice-local",
   "metadata": {},
   "source": [
    "#### Question 1"
   ]
  },
  {
   "cell_type": "markdown",
   "id": "later-brown",
   "metadata": {},
   "source": [
    "Given the following list:"
   ]
  },
  {
   "cell_type": "code",
   "execution_count": 1,
   "id": "bound-religion",
   "metadata": {},
   "outputs": [],
   "source": [
    "l = [10, 'abc', 3.14, True]"
   ]
  },
  {
   "cell_type": "markdown",
   "id": "fatty-quantity",
   "metadata": {},
   "source": [
    "Write code that prints out the index number and value at that index for every element of `l`."
   ]
  },
  {
   "cell_type": "code",
   "execution_count": 2,
   "id": "a82e5d54",
   "metadata": {},
   "outputs": [
    {
     "name": "stdout",
     "output_type": "stream",
     "text": [
      "0 10\n",
      "1 abc\n",
      "2 3.14\n",
      "3 True\n"
     ]
    }
   ],
   "source": [
    "for ind, i in enumerate(l):\n",
    "    print(ind, i)"
   ]
  },
  {
   "cell_type": "markdown",
   "id": "based-baking",
   "metadata": {},
   "source": [
    "#### Question 2"
   ]
  },
  {
   "cell_type": "markdown",
   "id": "mental-venture",
   "metadata": {},
   "source": [
    "We saw in this section how generator expressions can be more efficient, not only in terms os memory, but also in terms of computation time when not all values in the generator are iterated."
   ]
  },
  {
   "cell_type": "markdown",
   "id": "referenced-italy",
   "metadata": {},
   "source": [
    "Create a generator expression that when iterated over will produce the integers from `1` to `10_000` raised to the power of `1`, `2`, `3`, etc."
   ]
  },
  {
   "cell_type": "markdown",
   "id": "shared-serbia",
   "metadata": {},
   "source": [
    "So this generator should produce these results:"
   ]
  },
  {
   "cell_type": "markdown",
   "id": "cheap-emission",
   "metadata": {},
   "source": [
    "```\n",
    "1**1, 2**2, 3**3, 4**4, ...\n",
    "```"
   ]
  },
  {
   "cell_type": "markdown",
   "id": "liable-connectivity",
   "metadata": {},
   "source": [
    "Once you have created a generator expression to do this, time your results to create the generator and iterate through the first 5 elements of the generator."
   ]
  },
  {
   "cell_type": "markdown",
   "id": "divided-senior",
   "metadata": {},
   "source": [
    "Then, do the same thing, but using a list comprehension instead of a generator expression."
   ]
  },
  {
   "cell_type": "markdown",
   "id": "mexican-latin",
   "metadata": {},
   "source": [
    "Hint: you should use the `perf_counter` apprioach we have seen a few times in previous lectures:\n",
    "\n",
    "```\n",
    "from time import perf_counter\n",
    "\n",
    "start = perf_counter()\n",
    "# your code goes here\n",
    "end = perf_counter()\n",
    "print('elapsed:', end - start)\n",
    "```\n"
   ]
  },
  {
   "cell_type": "markdown",
   "id": "caroline-queen",
   "metadata": {},
   "source": [
    "To make timings more accurate, you should time a loop that repeats your code at least 10 times."
   ]
  },
  {
   "cell_type": "code",
   "execution_count": 4,
   "id": "6a54c213",
   "metadata": {},
   "outputs": [
    {
     "name": "stdout",
     "output_type": "stream",
     "text": [
      "elapsed: 6.000002031214535e-06\n",
      "elapsed: 0.00026390000130049884\n",
      "elapsed: 1.4700002793688327e-05\n",
      "elapsed: 4.2000028770416975e-06\n",
      "elapsed: 2.4999972083605826e-06\n",
      "elapsed: 2.3999964469112456e-06\n",
      "elapsed: 2.0000006770715117e-06\n",
      "elapsed: 2.9000002541579306e-06\n",
      "elapsed: 2.2000021999701858e-06\n",
      "elapsed: 3.6999990697950125e-06\n"
     ]
    }
   ],
   "source": [
    "from time import perf_counter\n",
    "\n",
    "for _ in range(10):\n",
    "    start = perf_counter()\n",
    "    gen = (i**i for i in range(10_000))\n",
    "    for _ in range(5):\n",
    "        next(gen)\n",
    "    end = perf_counter()\n",
    "    print('elapsed:', end - start)"
   ]
  },
  {
   "cell_type": "code",
   "execution_count": 6,
   "id": "f40adb0c",
   "metadata": {},
   "outputs": [
    {
     "name": "stdout",
     "output_type": "stream",
     "text": [
      "elapsed: 5.0938129999995\n",
      "elapsed: 4.748251900004107\n",
      "elapsed: 4.820926899999904\n",
      "elapsed: 4.772603400000662\n",
      "elapsed: 5.191828999995778\n",
      "elapsed: 5.705246099998476\n",
      "elapsed: 5.567420799998217\n",
      "elapsed: 5.392106799998146\n",
      "elapsed: 5.3562068000028376\n",
      "elapsed: 5.242082000004302\n"
     ]
    }
   ],
   "source": [
    "for _ in range(10):\n",
    "    start = perf_counter()\n",
    "    my_list = [i**i for i in range(10_000)]\n",
    "    for i in range(5):\n",
    "        my_list[i]\n",
    "    end = perf_counter()\n",
    "    print('elapsed:', end - start)"
   ]
  },
  {
   "cell_type": "code",
   "execution_count": 7,
   "id": "836141f7",
   "metadata": {},
   "outputs": [
    {
     "data": {
      "text/plain": [
       "[1, 1, 4, 27, 256, 3125]"
      ]
     },
     "execution_count": 7,
     "metadata": {},
     "output_type": "execute_result"
    }
   ],
   "source": [
    "my_list[:6]"
   ]
  },
  {
   "cell_type": "code",
   "execution_count": null,
   "id": "d1f34e83",
   "metadata": {},
   "outputs": [],
   "source": []
  }
 ],
 "metadata": {
  "kernelspec": {
   "display_name": "Python 3",
   "language": "python",
   "name": "python3"
  },
  "language_info": {
   "codemirror_mode": {
    "name": "ipython",
    "version": 3
   },
   "file_extension": ".py",
   "mimetype": "text/x-python",
   "name": "python",
   "nbconvert_exporter": "python",
   "pygments_lexer": "ipython3",
   "version": "3.11.4"
  }
 },
 "nbformat": 4,
 "nbformat_minor": 5
}
