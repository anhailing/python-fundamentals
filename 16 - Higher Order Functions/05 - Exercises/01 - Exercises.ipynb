{
 "cells": [
  {
   "cell_type": "markdown",
   "id": "tight-homework",
   "metadata": {},
   "source": [
    "### Exercises"
   ]
  },
  {
   "cell_type": "markdown",
   "id": "focused-phone",
   "metadata": {},
   "source": [
    "#### Question 1"
   ]
  },
  {
   "cell_type": "markdown",
   "id": "accomplished-livestock",
   "metadata": {},
   "source": [
    "We want to write a function that can find an approximate maximum or minimum of some given function over some given range."
   ]
  },
  {
   "cell_type": "markdown",
   "id": "exempt-heater",
   "metadata": {},
   "source": [
    "For example, given some function:\n",
    "\n",
    "```\n",
    "f(x) = x**2 - 1\n",
    "```\n",
    "\n",
    "our function should return an approximate minimum (or maximum) of `f` over some given range, say `[-5, 5]`."
   ]
  },
  {
   "cell_type": "markdown",
   "id": "closing-belle",
   "metadata": {},
   "source": [
    "We'll do this by essentially splitting our intervals into `n` points (what I'll call the `resolution`), evaluating the function at each of these points, and returning either the min or the max."
   ]
  },
  {
   "cell_type": "markdown",
   "id": "comfortable-aviation",
   "metadata": {},
   "source": [
    "We want this function to be generic, so it should have the following parameters:\n",
    "- a function of one variable\n",
    "- a range of values defined by start/end values\n",
    "- a value indicating the \"resolution\"\n",
    "- a value indicating whether we want the min or the max"
   ]
  },
  {
   "cell_type": "code",
   "execution_count": 20,
   "id": "aebad391",
   "metadata": {},
   "outputs": [],
   "source": [
    "import numpy as np\n",
    "\n",
    "\n",
    "f1 = lambda x: x ** 2 - 1\n",
    "f2 = lambda x: abs(x-2)\n",
    "f3 = lambda x: np.sin(x)\n",
    "\n",
    "\n",
    "\n",
    "def find_min_max(func, start=-10, end=10, resolution=1_000, is_min=True):\n",
    "    range_ = np.linspace(start, end, resolution)\n",
    "    return np.min(func(range_)) if is_min else np.max(func(range_))\n"
   ]
  },
  {
   "cell_type": "code",
   "execution_count": 21,
   "id": "ff0f3cba",
   "metadata": {},
   "outputs": [
    {
     "data": {
      "text/plain": [
       "0.9999996994977832"
      ]
     },
     "execution_count": 21,
     "metadata": {},
     "output_type": "execute_result"
    }
   ],
   "source": [
    "find_min_max(f3, is_min=False)"
   ]
  },
  {
   "cell_type": "markdown",
   "id": "fiscal-exclusive",
   "metadata": {},
   "source": [
    "#### Question 2"
   ]
  },
  {
   "cell_type": "markdown",
   "id": "tribal-irrigation",
   "metadata": {},
   "source": [
    "You are given a function of two variables, and a list of tuples containing the values for the two variables."
   ]
  },
  {
   "cell_type": "markdown",
   "id": "guilty-opposition",
   "metadata": {},
   "source": [
    "Create a list that is the result of calling the function on each values in the list, using three different techniques:\n",
    "- a `for` loop\n",
    "- a list comprehension\n",
    "- the `map` function\n",
    "\n",
    "Use the `timeit` function to time each approach.\n",
    "\n",
    "Hint: write a function that implements each approach, and then time calling those functions using the `timeit` function (`from timeit import timeit` - we've used it before). Also you will want to specify `number=10` or something like that when you run `timeit` - unless you want to sit there watvhing your screen for quite a while :-)"
   ]
  },
  {
   "cell_type": "code",
   "execution_count": 22,
   "id": "prompt-investigator",
   "metadata": {},
   "outputs": [],
   "source": [
    "import math\n",
    "\n",
    "def func(point):\n",
    "    # expect point to be a sequence of two values\n",
    "    x, y = point\n",
    "    return math.hypot(x, y)  \n",
    "    # hypot is a function that calculates sqrt(x**2 + y**2), given a sequence (x, y)\n",
    "\n",
    "points = [\n",
    "    (0, 0),\n",
    "    (1, 1),\n",
    "    (10, 20),\n",
    "    (math.pi, math.e)\n",
    "]"
   ]
  },
  {
   "cell_type": "markdown",
   "id": "tutorial-absolute",
   "metadata": {},
   "source": [
    "Your result for `points` should be:\n",
    "\n",
    "```\n",
    "[0.0, 1.4142135623730951, 22.360679774997898, 4.154354402313314]\n",
    "```"
   ]
  },
  {
   "cell_type": "code",
   "execution_count": 29,
   "id": "eabf8e88",
   "metadata": {},
   "outputs": [
    {
     "data": {
      "text/plain": [
       "[0.0, 1.4142135623730951, 22.360679774997898, 4.154354402313313]"
      ]
     },
     "execution_count": 29,
     "metadata": {},
     "output_type": "execute_result"
    }
   ],
   "source": [
    "# method 1\n",
    "from timeit import timeit\n",
    "\n",
    "def calc_loop(f, points):\n",
    "    results = []\n",
    "    for p in points:\n",
    "        results.append(f(p))\n",
    "    return results\n",
    "\n",
    "calc_loop(func, points)\n"
   ]
  },
  {
   "cell_type": "code",
   "execution_count": 30,
   "id": "3e246095",
   "metadata": {},
   "outputs": [
    {
     "data": {
      "text/plain": [
       "[0.0, 1.4142135623730951, 22.360679774997898, 4.154354402313313]"
      ]
     },
     "execution_count": 30,
     "metadata": {},
     "output_type": "execute_result"
    }
   ],
   "source": [
    "def calc_comprehension(f, points):\n",
    "    return [f(p) for p in points]\n",
    "\n",
    "calc_comprehension(func, points)\n",
    "    "
   ]
  },
  {
   "cell_type": "code",
   "execution_count": 31,
   "id": "e8438873",
   "metadata": {},
   "outputs": [
    {
     "data": {
      "text/plain": [
       "[0.0, 1.4142135623730951, 22.360679774997898, 4.154354402313313]"
      ]
     },
     "execution_count": 31,
     "metadata": {},
     "output_type": "execute_result"
    }
   ],
   "source": [
    "def calc_map(f, points):\n",
    "    return list(map(f, points))\n",
    "\n",
    "calc_map(func, points)"
   ]
  },
  {
   "cell_type": "markdown",
   "id": "255a3708",
   "metadata": {},
   "source": [
    "Now let's run some timings, using `points_large` for our arguments:"
   ]
  },
  {
   "cell_type": "code",
   "execution_count": 2,
   "id": "informal-equality",
   "metadata": {},
   "outputs": [],
   "source": [
    "points_large = [(math.sin(x), math.cos(x)) for x in range(1, 1_000_000)]"
   ]
  },
  {
   "cell_type": "code",
   "execution_count": 33,
   "id": "51d9e65c",
   "metadata": {},
   "outputs": [
    {
     "data": {
      "text/plain": [
       "2.729997504502535e-05"
      ]
     },
     "execution_count": 33,
     "metadata": {},
     "output_type": "execute_result"
    }
   ],
   "source": [
    "timeit(\"calc_loop(func, points)\", globals=globals(), number=10)"
   ]
  },
  {
   "cell_type": "code",
   "execution_count": 35,
   "id": "6ac05cd9",
   "metadata": {},
   "outputs": [
    {
     "data": {
      "text/plain": [
       "2.6699970476329327e-05"
      ]
     },
     "execution_count": 35,
     "metadata": {},
     "output_type": "execute_result"
    }
   ],
   "source": [
    "timeit(\"calc_comprehension(func, points)\", globals=globals(), number=10)"
   ]
  },
  {
   "cell_type": "code",
   "execution_count": 36,
   "id": "742ad34e",
   "metadata": {},
   "outputs": [
    {
     "data": {
      "text/plain": [
       "2.6699970476329327e-05"
      ]
     },
     "execution_count": 36,
     "metadata": {},
     "output_type": "execute_result"
    }
   ],
   "source": [
    "timeit(\"calc_map(func, points)\", globals=globals(), number=10)"
   ]
  },
  {
   "cell_type": "markdown",
   "id": "caroline-analysis",
   "metadata": {},
   "source": [
    "#### Question 3"
   ]
  },
  {
   "cell_type": "markdown",
   "id": "special-stuart",
   "metadata": {},
   "source": [
    "Write a function that returns a function with all arguments, except the first one, prefilled with certain values provided to the outer function."
   ]
  },
  {
   "cell_type": "markdown",
   "id": "becoming-civilization",
   "metadata": {},
   "source": [
    "(This is sometimes called a partial function)."
   ]
  },
  {
   "cell_type": "markdown",
   "id": "solar-watson",
   "metadata": {},
   "source": [
    "For example, we may have some functions such as:"
   ]
  },
  {
   "cell_type": "code",
   "execution_count": 3,
   "id": "divine-brand",
   "metadata": {},
   "outputs": [],
   "source": [
    "import math"
   ]
  },
  {
   "cell_type": "code",
   "execution_count": 4,
   "id": "saving-hazard",
   "metadata": {},
   "outputs": [],
   "source": [
    "def power(x, n):\n",
    "    return x ** n"
   ]
  },
  {
   "cell_type": "code",
   "execution_count": 5,
   "id": "requested-mathematics",
   "metadata": {},
   "outputs": [],
   "source": [
    "def dist(pt1, pt2):\n",
    "    return math.sqrt(sum(coord_1 - coord_2 for coord_1, coord_2 in zip(pt1, pt2)))"
   ]
  },
  {
   "cell_type": "markdown",
   "id": "hungry-aberdeen",
   "metadata": {},
   "source": [
    "Or even functions already defined, such as:\n",
    "\n",
    "```\n",
    "math.gcd(a, b)\n",
    "```\n",
    "or\n",
    "```\n",
    "math.log(x, base)\n",
    "```"
   ]
  },
  {
   "cell_type": "markdown",
   "id": "entitled-denver",
   "metadata": {},
   "source": [
    "We want to to be able to generate new functions, based on these ones (`power`, `dist`, `gcd`, `log`) but with all the values except the first one prefilled, for example, assuming our function is named `partial`, we can use it to define new functions this way:"
   ]
  },
  {
   "cell_type": "markdown",
   "id": "first-velvet",
   "metadata": {},
   "source": [
    "```\n",
    "squares = partial(power, 2)\n",
    "dist_from_origin = partial(dist, (0, 0))\n",
    "gcd_13 = partial(math.gcd, 13)\n",
    "log_2 = partial(math.log, 2)\n",
    "log_10 = partial(math.log, 10)\n",
    "log_16 = partial(math.log, 16)\n",
    "```"
   ]
  },
  {
   "cell_type": "markdown",
   "id": "gentle-monitor",
   "metadata": {},
   "source": [
    "Then when we call our new functions, we just pass in the value for the first argument, i.e."
   ]
  },
  {
   "cell_type": "markdown",
   "id": "bridal-scenario",
   "metadata": {},
   "source": [
    "```\n",
    "squares(3) --> 9\n",
    "squares(4) --> 16\n",
    "dist_from_origin((1, 1)) --> 1.414\n",
    "log_2(10) --> 3.3219\n",
    "log_10(10) --> 1.0\n",
    "log_16(10) --> 0.8304\n",
    "```"
   ]
  },
  {
   "cell_type": "code",
   "execution_count": 42,
   "id": "817fdc8f",
   "metadata": {},
   "outputs": [],
   "source": [
    "def power(x, n):\n",
    "    return x ** n\n",
    "\n",
    "def partial(func, *args, **kwargs):\n",
    "    def inner(first_arg):\n",
    "        print(\"func: \", func.__name__)\n",
    "        print(\"first_arg: \", first_arg)\n",
    "        print(\"args: \", args)\n",
    "        print(\"kwargs: \", kwargs)\n",
    "        return func(first_arg, *args, **kwargs)\n",
    "    return inner"
   ]
  },
  {
   "cell_type": "code",
   "execution_count": 43,
   "id": "4437beef",
   "metadata": {},
   "outputs": [],
   "source": [
    "f = partial(power, n=2)"
   ]
  },
  {
   "cell_type": "code",
   "execution_count": 44,
   "id": "3097b146",
   "metadata": {},
   "outputs": [
    {
     "name": "stdout",
     "output_type": "stream",
     "text": [
      "func:  power\n",
      "first_arg:  3\n",
      "args:  ()\n",
      "kwargs:  {'n': 2}\n"
     ]
    },
    {
     "data": {
      "text/plain": [
       "9"
      ]
     },
     "execution_count": 44,
     "metadata": {},
     "output_type": "execute_result"
    }
   ],
   "source": [
    "f(3)"
   ]
  },
  {
   "cell_type": "markdown",
   "id": "cleared-watson",
   "metadata": {},
   "source": [
    "#### Question 4"
   ]
  },
  {
   "cell_type": "markdown",
   "id": "registered-moscow",
   "metadata": {},
   "source": [
    "Write a function that can be used to not only execute another function with specified arguments, but print a \"log\" (basically just print to the console\", of how long it took to execute the function."
   ]
  },
  {
   "cell_type": "markdown",
   "id": "invisible-elephant",
   "metadata": {},
   "source": [
    "For example, given some functions like this:"
   ]
  },
  {
   "cell_type": "code",
   "execution_count": 45,
   "id": "prerequisite-allergy",
   "metadata": {},
   "outputs": [],
   "source": [
    "def norm(x, y):\n",
    "    return math.sqrt(x**2 + y**2)\n",
    "\n",
    "def find_index_min(seq):\n",
    "    min_ = min(seq)\n",
    "    return seq.index(min_)"
   ]
  },
  {
   "cell_type": "markdown",
   "id": "heavy-police",
   "metadata": {},
   "source": [
    "Then assuming your logging function is called `logged`, you could create logged functions this way:"
   ]
  },
  {
   "cell_type": "code",
   "execution_count": 47,
   "id": "liquid-divide",
   "metadata": {},
   "outputs": [],
   "source": [
    "from time import perf_counter\n",
    "\n",
    "def logged(f):\n",
    "    def inner(*args, **kwargs):\n",
    "        start = perf_counter()\n",
    "        result = f(*args, **kwargs)\n",
    "        end = perf_counter()\n",
    "        print(f\"Function {f.__name__} took {end - start} seconds\")\n",
    "        return result\n",
    "    return inner"
   ]
  },
  {
   "cell_type": "code",
   "execution_count": 48,
   "id": "measured-packaging",
   "metadata": {},
   "outputs": [],
   "source": [
    "norm_logged = logged(norm)\n",
    "find_index_min_logged = logged(find_index_min)"
   ]
  },
  {
   "cell_type": "markdown",
   "id": "czech-husband",
   "metadata": {},
   "source": [
    "You would then be able to call `norm_logged` with some arguments, or `find_index_min_logged` with some arguments, and not only get the actual result back, but also see an output to the console that tells you how long the function took to run."
   ]
  },
  {
   "cell_type": "code",
   "execution_count": 49,
   "id": "e6c51ef1",
   "metadata": {},
   "outputs": [
    {
     "name": "stdout",
     "output_type": "stream",
     "text": [
      "Function norm took 0.0006563999922946095 seconds\n"
     ]
    },
    {
     "data": {
      "text/plain": [
       "5.0"
      ]
     },
     "execution_count": 49,
     "metadata": {},
     "output_type": "execute_result"
    }
   ],
   "source": [
    "norm_logged(3, 4)"
   ]
  },
  {
   "cell_type": "code",
   "execution_count": 55,
   "id": "3b67610d",
   "metadata": {},
   "outputs": [
    {
     "name": "stdout",
     "output_type": "stream",
     "text": [
      "Function norm took 5.89998671784997e-06 seconds\n"
     ]
    },
    {
     "data": {
      "text/plain": [
       "5.0"
      ]
     },
     "execution_count": 55,
     "metadata": {},
     "output_type": "execute_result"
    }
   ],
   "source": [
    "@logged\n",
    "def norm(x, y):\n",
    "    return math.sqrt(x**2 + y**2)\n",
    "\n",
    "norm(3, 4)"
   ]
  },
  {
   "cell_type": "code",
   "execution_count": 51,
   "id": "b0b2736b",
   "metadata": {},
   "outputs": [
    {
     "data": {
      "text/plain": [
       "(<cell at 0x000001224B16A680: function object at 0x000001224AFD4400>,)"
      ]
     },
     "execution_count": 51,
     "metadata": {},
     "output_type": "execute_result"
    }
   ],
   "source": [
    "norm_logged.__closure__"
   ]
  },
  {
   "cell_type": "code",
   "execution_count": 54,
   "id": "710161e7",
   "metadata": {},
   "outputs": [
    {
     "data": {
      "text/plain": [
       "'0x1224afd4400'"
      ]
     },
     "execution_count": 54,
     "metadata": {},
     "output_type": "execute_result"
    }
   ],
   "source": [
    "hex(id(norm))"
   ]
  },
  {
   "cell_type": "code",
   "execution_count": null,
   "id": "db501595",
   "metadata": {},
   "outputs": [],
   "source": []
  }
 ],
 "metadata": {
  "kernelspec": {
   "display_name": "Python 3",
   "language": "python",
   "name": "python3"
  },
  "language_info": {
   "codemirror_mode": {
    "name": "ipython",
    "version": 3
   },
   "file_extension": ".py",
   "mimetype": "text/x-python",
   "name": "python",
   "nbconvert_exporter": "python",
   "pygments_lexer": "ipython3",
   "version": "3.11.4"
  }
 },
 "nbformat": 4,
 "nbformat_minor": 5
}
