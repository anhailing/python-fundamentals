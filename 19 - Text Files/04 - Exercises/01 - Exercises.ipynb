{
 "cells": [
  {
   "cell_type": "markdown",
   "id": "plain-speaking",
   "metadata": {},
   "source": [
    "### Exercises"
   ]
  },
  {
   "cell_type": "markdown",
   "id": "hydraulic-hello",
   "metadata": {},
   "source": [
    "#### Question 1"
   ]
  },
  {
   "cell_type": "markdown",
   "id": "least-intelligence",
   "metadata": {},
   "source": [
    "Write some code that generates a file containing containing rows containing the following data:\n",
    "\n",
    "```\n",
    "i, fibonacci_i, factorial_i, gcd_fibonacci_i_factorial_i\n",
    "```\n",
    "\n",
    "where:\n",
    "- `i`: integer values from `0` to `100`\n",
    "- `fibonacci_i`: the `i`th Fibonacci number\n",
    "- `factorial_i`: the factorial of `i` (`i!`)\n",
    "- `gcd_fib_i_fact_i`: the greatest common denominator of the `i`th Fibonacci number and `i!` \n",
    "\n",
    "Hint: look at the `math.factorial` and `math.gcd` functions in the Python docs\n",
    "\n",
    "Also make sure to include a header row in your file."
   ]
  },
  {
   "cell_type": "markdown",
   "id": "consistent-lying",
   "metadata": {},
   "source": [
    "For example, the first few rows in your file should contain this data:"
   ]
  },
  {
   "cell_type": "markdown",
   "id": "express-distinction",
   "metadata": {},
   "source": [
    "```\n",
    "i,fib,fact,gcd\n",
    "0,1,1,1\n",
    "1,1,1,1\n",
    "2,2,2,2\n",
    "3,3,6,3\n",
    "4,5,24,1\n",
    "5,8,120,8\n",
    "```"
   ]
  },
  {
   "cell_type": "code",
   "execution_count": 1,
   "id": "e41ee748",
   "metadata": {},
   "outputs": [],
   "source": [
    "import math"
   ]
  },
  {
   "cell_type": "code",
   "execution_count": 9,
   "id": "6a5da6bf",
   "metadata": {},
   "outputs": [],
   "source": [
    "def memorize(func):\n",
    "    cache = {}\n",
    "    def wrapper(n):\n",
    "        if n not in cache:\n",
    "            cache[n] = func(n)\n",
    "        return cache[n]\n",
    "    return wrapper\n",
    "\n",
    "@memorize\n",
    "def fibonacci(n):\n",
    "    \"\"\"Return the nth Fibonacci number.\"\"\"\n",
    "    if n == 0 or n == 1:\n",
    "        return 1\n",
    "    else:\n",
    "        return fibonacci(n-1) + fibonacci(n-2)"
   ]
  },
  {
   "cell_type": "code",
   "execution_count": 11,
   "id": "5ae2be63",
   "metadata": {},
   "outputs": [],
   "source": [
    "from functools import lru_cache\n",
    "\n",
    "@lru_cache(maxsize=None)\n",
    "def fibonacci(n):\n",
    "    \"\"\"Return the nth Fibonacci number.\"\"\"\n",
    "    if n == 0 or n == 1:\n",
    "        return 1\n",
    "    else:\n",
    "        return fibonacci(n-1) + fibonacci(n-2)"
   ]
  },
  {
   "cell_type": "code",
   "execution_count": 18,
   "id": "771ef185",
   "metadata": {},
   "outputs": [
    {
     "name": "stdout",
     "output_type": "stream",
     "text": [
      "0,1,1,1\n",
      "1,1,1,1\n",
      "2,2,2,2\n",
      "3,3,6,3\n",
      "4,5,24,1\n",
      "5,8,120,8\n"
     ]
    }
   ],
   "source": [
    "# Exercise: 1.1\n",
    "fib = [fibonacci(i) for i in range(0, 101)]\n",
    "fact = [math.factorial(i) for i in range(0, 101)]\n",
    "gcd = [math.gcd(fact[i], fib[i]) for i in range(0, 101)]\n",
    "\n",
    "rs = [[i, fib[i], fact[i], gcd[i]] for i in range(0, 101)]\n",
    "\n",
    "for l in rs[:6]:\n",
    "    row = \",\".join(map(str, l))\n",
    "    print(row)"
   ]
  },
  {
   "cell_type": "markdown",
   "id": "north-voice",
   "metadata": {},
   "source": [
    "#### Question 2"
   ]
  },
  {
   "cell_type": "markdown",
   "id": "boring-veteran",
   "metadata": {},
   "source": [
    "Using the file you just generated, write three functions:\n",
    "- `fib`\n",
    "- `fact`\n",
    "- `gcd_fib_fact`\n",
    "\n",
    "that perform the same calculations as our original `fib` function, the `math` module's `factorial` and the `gcd` of the corresponding fibonacci and factorial numbers, but uses the data that was saved in the file as a cache/lookup mechanism - i.e. just use the numbers in the file if they are available, otherwise make the calculation."
   ]
  },
  {
   "cell_type": "code",
   "execution_count": 19,
   "id": "6080b32d",
   "metadata": {},
   "outputs": [
    {
     "data": {
      "text/plain": [
       "list"
      ]
     },
     "execution_count": 19,
     "metadata": {},
     "output_type": "execute_result"
    }
   ],
   "source": [
    "type(rs)"
   ]
  },
  {
   "cell_type": "code",
   "execution_count": null,
   "id": "2638ebc3",
   "metadata": {},
   "outputs": [],
   "source": []
  }
 ],
 "metadata": {
  "kernelspec": {
   "display_name": "Python 3",
   "language": "python",
   "name": "python3"
  },
  "language_info": {
   "codemirror_mode": {
    "name": "ipython",
    "version": 3
   },
   "file_extension": ".py",
   "mimetype": "text/x-python",
   "name": "python",
   "nbconvert_exporter": "python",
   "pygments_lexer": "ipython3",
   "version": "3.11.4"
  }
 },
 "nbformat": 4,
 "nbformat_minor": 5
}
