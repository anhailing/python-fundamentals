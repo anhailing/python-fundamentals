{
 "cells": [
  {
   "cell_type": "markdown",
   "id": "invalid-compatibility",
   "metadata": {},
   "source": [
    "### Exercises"
   ]
  },
  {
   "cell_type": "markdown",
   "id": "theoretical-livestock",
   "metadata": {},
   "source": [
    "#### Question 1"
   ]
  },
  {
   "cell_type": "markdown",
   "id": "liberal-gibraltar",
   "metadata": {},
   "source": [
    "Your code uses a few functions in the `math` module here and there, but you also tend to use the `sin`, `cos` and `tan` functions and the `pi` constant very frequently."
   ]
  },
  {
   "cell_type": "markdown",
   "id": "presidential-milwaukee",
   "metadata": {},
   "source": [
    "Write some import statements that you think would be helpful in this scenario."
   ]
  },
  {
   "cell_type": "code",
   "execution_count": 3,
   "id": "6c0fbafc",
   "metadata": {},
   "outputs": [],
   "source": [
    "import math"
   ]
  },
  {
   "cell_type": "code",
   "execution_count": 6,
   "id": "29fd7bbe",
   "metadata": {},
   "outputs": [
    {
     "data": {
      "text/plain": [
       "10"
      ]
     },
     "execution_count": 6,
     "metadata": {},
     "output_type": "execute_result"
    }
   ],
   "source": [
    "math.gcd(10, 20, 30)"
   ]
  },
  {
   "cell_type": "code",
   "execution_count": 5,
   "id": "66f02868",
   "metadata": {},
   "outputs": [
    {
     "name": "stdout",
     "output_type": "stream",
     "text": [
      "Help on built-in function gcd in module math:\n",
      "\n",
      "gcd(*integers)\n",
      "    Greatest Common Divisor.\n",
      "\n"
     ]
    }
   ],
   "source": [
    "help(math.gcd)"
   ]
  },
  {
   "cell_type": "markdown",
   "id": "binding-cream",
   "metadata": {},
   "source": [
    "#### Question 2"
   ]
  },
  {
   "cell_type": "markdown",
   "id": "fewer-actress",
   "metadata": {},
   "source": [
    "There is a library that we installed for our course called `matplotlib`."
   ]
  },
  {
   "cell_type": "markdown",
   "id": "instrumental-interaction",
   "metadata": {},
   "source": [
    "We can certainly import that library using its full name, but whenever we need to reach into that module we need to type out `matplotlib.som_func` - since we use this library quite often, typing out `matplotlib` every time gets tiring."
   ]
  },
  {
   "cell_type": "markdown",
   "id": "computational-robert",
   "metadata": {},
   "source": [
    "Write an import function that allows you to reference that module using the name `mpl` instead of the full name `matplotlib`."
   ]
  },
  {
   "cell_type": "code",
   "execution_count": 2,
   "id": "a57c9c98",
   "metadata": {},
   "outputs": [],
   "source": [
    "import matplotlib as mpl"
   ]
  },
  {
   "cell_type": "code",
   "execution_count": null,
   "id": "2d447363",
   "metadata": {},
   "outputs": [],
   "source": []
  }
 ],
 "metadata": {
  "kernelspec": {
   "display_name": "Python 3",
   "language": "python",
   "name": "python3"
  },
  "language_info": {
   "codemirror_mode": {
    "name": "ipython",
    "version": 3
   },
   "file_extension": ".py",
   "mimetype": "text/x-python",
   "name": "python",
   "nbconvert_exporter": "python",
   "pygments_lexer": "ipython3",
   "version": "3.11.3"
  }
 },
 "nbformat": 4,
 "nbformat_minor": 5
}
