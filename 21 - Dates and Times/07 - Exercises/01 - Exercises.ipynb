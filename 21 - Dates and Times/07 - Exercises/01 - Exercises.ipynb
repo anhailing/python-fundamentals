{
 "cells": [
  {
   "cell_type": "markdown",
   "id": "anonymous-accounting",
   "metadata": {},
   "source": [
    "### Exercises"
   ]
  },
  {
   "cell_type": "markdown",
   "id": "nominated-african",
   "metadata": {},
   "source": [
    "#### Question 1"
   ]
  },
  {
   "cell_type": "markdown",
   "id": "hungry-vietnam",
   "metadata": {},
   "source": [
    "Write a function that, given an epoch timestamp, returns a `datetime` object set to the beginning of that month (so midnight of the first day of the month)."
   ]
  },
  {
   "cell_type": "markdown",
   "id": "false-fountain",
   "metadata": {},
   "source": [
    "For example, given the epoch time `12345678.9`, your function should return:\n",
    "```\n",
    "datetime.datetime(1970, 5, 1, 0, 0)\n",
    "```"
   ]
  },
  {
   "cell_type": "code",
   "execution_count": 9,
   "id": "56a2df08",
   "metadata": {},
   "outputs": [],
   "source": [
    "from datetime import datetime\n",
    "import time"
   ]
  },
  {
   "cell_type": "code",
   "execution_count": 11,
   "id": "0e6d9fe3",
   "metadata": {},
   "outputs": [
    {
     "data": {
      "text/plain": [
       "datetime.datetime(1970, 5, 23, 16, 21, 18, 900000)"
      ]
     },
     "execution_count": 11,
     "metadata": {},
     "output_type": "execute_result"
    }
   ],
   "source": [
    "t = 12345678.9\n",
    "dt = datetime.fromtimestamp(t)\n",
    "dt"
   ]
  },
  {
   "cell_type": "code",
   "execution_count": 12,
   "id": "fa29a4ae",
   "metadata": {},
   "outputs": [
    {
     "data": {
      "text/plain": [
       "datetime.datetime(1970, 5, 1, 0, 0)"
      ]
     },
     "execution_count": 12,
     "metadata": {},
     "output_type": "execute_result"
    }
   ],
   "source": [
    "dt.replace(day=1, hour=0, minute=0, second=0, microsecond=0)"
   ]
  },
  {
   "cell_type": "code",
   "execution_count": 13,
   "id": "3e682d66",
   "metadata": {},
   "outputs": [],
   "source": [
    "def first_day_converter(timestamp):\n",
    "    dt = datetime.fromtimestamp(timestamp)\n",
    "    first_day = dt.replace(day=1, hour=0, minute=0, second=0, microsecond=0)\n",
    "    return first_day"
   ]
  },
  {
   "cell_type": "code",
   "execution_count": 14,
   "id": "7bc42e0b",
   "metadata": {},
   "outputs": [
    {
     "data": {
      "text/plain": [
       "datetime.datetime(1970, 5, 1, 0, 0)"
      ]
     },
     "execution_count": 14,
     "metadata": {},
     "output_type": "execute_result"
    }
   ],
   "source": [
    "first_day_converter(t)"
   ]
  },
  {
   "cell_type": "code",
   "execution_count": 15,
   "id": "08dfce33",
   "metadata": {},
   "outputs": [
    {
     "data": {
      "text/plain": [
       "datetime.datetime(2023, 7, 1, 0, 0)"
      ]
     },
     "execution_count": 15,
     "metadata": {},
     "output_type": "execute_result"
    }
   ],
   "source": [
    "first_day_converter(time.time())"
   ]
  },
  {
   "cell_type": "markdown",
   "id": "photographic-willow",
   "metadata": {},
   "source": [
    "#### Question 2"
   ]
  },
  {
   "cell_type": "markdown",
   "id": "mexican-cooperative",
   "metadata": {},
   "source": [
    "Write a function that returns the difference in hours between two dates provided as Python standard ISO formatted strings, rounded to the nearest hour. For simplicity, assume that these dates do not contain fractional seconds."
   ]
  },
  {
   "cell_type": "markdown",
   "id": "underlying-concord",
   "metadata": {},
   "source": [
    "For example, given these two dates:\n",
    "```\n",
    "2001-01-01T13:50:23\n",
    "```\n",
    "\n",
    "and \n",
    "```\n",
    "2001-06-12T14:23:50\n",
    "```\n",
    "\n",
    "your result should be `3889` hours."
   ]
  },
  {
   "cell_type": "code",
   "execution_count": 24,
   "id": "5430c41f",
   "metadata": {},
   "outputs": [
    {
     "name": "stdout",
     "output_type": "stream",
     "text": [
      "Hours between dates: 3889\n"
     ]
    }
   ],
   "source": [
    "dt1 = \"2001-01-01T13:50:23\"\n",
    "dt2 = \"2001-06-12T14:23:50\"\n",
    "# dt1 = datetime.strptime(dt1, \"%Y-%m-%dT%H:%M:%S\")\n",
    "# dt2 = datetime.strptime(dt2, \"%Y-%m-%dT%H:%M:%S\")\n",
    "dt1 = datetime.fromisoformat(dt1)\n",
    "dt2 = datetime.fromisoformat(dt2)\n",
    "delta = (dt2 - dt1).total_seconds()/3600\n",
    "print(f\"Hours between dates: {delta:.0f}\")\n"
   ]
  },
  {
   "cell_type": "code",
   "execution_count": 25,
   "id": "1df7ebcc",
   "metadata": {},
   "outputs": [],
   "source": [
    "def num_hours(dt1, dt2):\n",
    "    dt1 = datetime.fromisoformat(dt1)\n",
    "    dt2 = datetime.fromisoformat(dt2)\n",
    "    delta = (dt2 - dt1).total_seconds()/3600\n",
    "    return int(f\"{delta:.0f}\")"
   ]
  },
  {
   "cell_type": "code",
   "execution_count": 26,
   "id": "d1c401dd",
   "metadata": {},
   "outputs": [
    {
     "data": {
      "text/plain": [
       "3889"
      ]
     },
     "execution_count": 26,
     "metadata": {},
     "output_type": "execute_result"
    }
   ],
   "source": [
    "num_hours('2001-01-01T13:50:23', '2001-06-12T14:23:50')"
   ]
  },
  {
   "cell_type": "code",
   "execution_count": 27,
   "id": "4ec16e59",
   "metadata": {},
   "outputs": [
    {
     "data": {
      "text/plain": [
       "1"
      ]
     },
     "execution_count": 27,
     "metadata": {},
     "output_type": "execute_result"
    }
   ],
   "source": [
    "num_hours('2001-01-01T00:00:00', '2001-01-01T01:00:00')"
   ]
  },
  {
   "cell_type": "code",
   "execution_count": 28,
   "id": "a6cc8b46",
   "metadata": {},
   "outputs": [
    {
     "data": {
      "text/plain": [
       "26"
      ]
     },
     "execution_count": 28,
     "metadata": {},
     "output_type": "execute_result"
    }
   ],
   "source": [
    "num_hours('2001-01-01T00:00:00', '2001-01-02T01:50:00')"
   ]
  },
  {
   "cell_type": "markdown",
   "id": "promising-demand",
   "metadata": {},
   "source": [
    "### Question 3"
   ]
  },
  {
   "cell_type": "markdown",
   "id": "fewer-reception",
   "metadata": {},
   "source": [
    "Write a function that can be used to consistently format `datetime` objects into strings with some default format, but allows the caller to override the default format."
   ]
  },
  {
   "cell_type": "markdown",
   "id": "conditional-mason",
   "metadata": {},
   "source": [
    "For example, the default format could be `mm/dd/yyyy hh:mm:ss am/pm`, but your function allows itself to be called with some argument that can override that format."
   ]
  },
  {
   "cell_type": "code",
   "execution_count": 44,
   "id": "6779a5bb",
   "metadata": {},
   "outputs": [],
   "source": [
    "def dt_to_string(dt, *, fmt='%m/%d/%y %I:%M:%S%p'):\n",
    "    return dt.strftime(fmt)"
   ]
  },
  {
   "cell_type": "code",
   "execution_count": 46,
   "id": "f2a95468",
   "metadata": {},
   "outputs": [
    {
     "data": {
      "text/plain": [
       "'2002-03-11 11:00:00'"
      ]
     },
     "execution_count": 46,
     "metadata": {},
     "output_type": "execute_result"
    }
   ],
   "source": [
    "dt = datetime(2002, 3, 11, 11, 0, 0)\n",
    "dt_to_string(dt, fmt='%Y-%m-%d %H:%M:%S')"
   ]
  },
  {
   "cell_type": "code",
   "execution_count": 48,
   "id": "a3e6e126",
   "metadata": {},
   "outputs": [
    {
     "data": {
      "text/plain": [
       "'March 11, 2002'"
      ]
     },
     "execution_count": 48,
     "metadata": {},
     "output_type": "execute_result"
    }
   ],
   "source": [
    "dt_to_string(dt, fmt=\"%B %d, %Y\")"
   ]
  },
  {
   "cell_type": "code",
   "execution_count": null,
   "id": "90304e04",
   "metadata": {},
   "outputs": [],
   "source": []
  }
 ],
 "metadata": {
  "kernelspec": {
   "display_name": "Python 3",
   "language": "python",
   "name": "python3"
  },
  "language_info": {
   "codemirror_mode": {
    "name": "ipython",
    "version": 3
   },
   "file_extension": ".py",
   "mimetype": "text/x-python",
   "name": "python",
   "nbconvert_exporter": "python",
   "pygments_lexer": "ipython3",
   "version": "3.11.4"
  }
 },
 "nbformat": 4,
 "nbformat_minor": 5
}
