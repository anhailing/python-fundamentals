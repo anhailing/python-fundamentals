{
 "cells": [
  {
   "cell_type": "markdown",
   "id": "intimate-skirt",
   "metadata": {},
   "source": [
    "### Solutions"
   ]
  },
  {
   "cell_type": "markdown",
   "id": "compliant-pavilion",
   "metadata": {},
   "source": [
    "#### Question 1"
   ]
  },
  {
   "cell_type": "markdown",
   "id": "private-theory",
   "metadata": {},
   "source": [
    "Write a custom class that will be used to model a single bank account."
   ]
  },
  {
   "cell_type": "markdown",
   "id": "greenhouse-anchor",
   "metadata": {},
   "source": [
    "Your class should implement functionality to:\n",
    "- allow initialization with values for `first_name`, `last_name`, `account_number`, `balance`, `is_overdraft_allowed`\n",
    "- keep track of a \"ledger\" that keeps a record all transactions (just use a list to keep track of this)\n",
    "    - at a minimum it should keep track of the transaction date (the current UTC datetime) and the amount (positive, or negative to indicate deposits/withdrawals) - later you could add tracking the running balance as well.\n",
    "- provide read-only properties for `first_name`, `last_name`, `account_number` and `balance`\n",
    "- provide a property to access the ledger in such a way that a user of this class cannot mutate the ledger directly\n",
    "- provide a read-write property for `is_overdraft_allowed` that indicates whether overdrafts are allowed on the account.\n",
    "- provide methods to debit (`def withdraw`) and credit (`def deposit`) transactions that:\n",
    "    - verify withdrawals against available balance and `is_overdraft_allowed` flag\n",
    "        - if withdrawal is larger than available balance and overdrafts are not allowed, this should raise a custom `OverdraftNotAllowed` exception.\n",
    "        - if transaction value is not positive, this should raise a `ValueError` exception (we have separate methods for deposits and withdrawals, and we expect the value to be positive in both cases - one will add to the balance, one will subtract from the balance).\n",
    "    - add an entry to the ledger with a current UTC timestamp (positive or negative to indicate credit/debit)\n",
    "    - keeps the available balance updated\n",
    "- implements a good string representation for the instance (maybe something like `first_name last_name (account_number): balance`"
   ]
  },
  {
   "cell_type": "markdown",
   "id": "cultural-point",
   "metadata": {},
   "source": [
    "Feel free to expand on the minimum definition I have given here and enhance your custom class."
   ]
  },
  {
   "cell_type": "markdown",
   "id": "weekly-working",
   "metadata": {},
   "source": [
    "#### Question 2"
   ]
  },
  {
   "cell_type": "markdown",
   "id": "accompanied-collaboration",
   "metadata": {},
   "source": [
    "Expand on your class above to implement equality (`==`) comparisons between instances of your class."
   ]
  },
  {
   "cell_type": "markdown",
   "id": "acceptable-creek",
   "metadata": {},
   "source": [
    "Two accounts should be considered equal if the account numbers are the same."
   ]
  },
  {
   "cell_type": "code",
   "execution_count": 1,
   "id": "8d51c6d5",
   "metadata": {},
   "outputs": [],
   "source": [
    "from datetime import datetime\n",
    "\n",
    "class OverdraftNotAllowed(Exception):\n",
    "    \"\"\"Exception indicating a transaction would have resulted in a forbidden overdraft.\"\"\"\n",
    "\n",
    "\n",
    "class BankAccount:\n",
    "    def __init__(self, first_name, last_name, account_number, balance=0, is_overdraft_allowed=False):\n",
    "        self._first_name = first_name\n",
    "        self._last_name = last_name\n",
    "        self._account_number = account_number\n",
    "        self._balance = balance\n",
    "        self.is_overdraft_allowed = is_overdraft_allowed\n",
    "        self._ledger = []\n",
    "        self._make_ledger_entry(balance, \"account creation\")\n",
    "    \n",
    "    def __str__(self):\n",
    "        return f\"{self.first_name} {self.last_name} ({self._account_number}): {self.balance}\"\n",
    "\n",
    "    def __repr__(self):\n",
    "        return f\"BankAccount(first_name='{self.first_name}', last_name='{self.last_name}', account_number='{self._account_number}', balance={self.balance}, is_overdraft_allowed={self.is_overdraft_allowed})\"\n",
    "    \n",
    "    def __eq__(self, other):\n",
    "        return isinstance(other, BankAccount) and self.account_number == other.account_number\n",
    "\n",
    "    @property\n",
    "    def first_name(self):\n",
    "        return self._first_name\n",
    "    \n",
    "    @property\n",
    "    def last_name(self):\n",
    "        return self._last_name\n",
    "    \n",
    "    @property\n",
    "    def account_number(self):\n",
    "        return self._account_number\n",
    "    \n",
    "    @property\n",
    "    def balance(self):\n",
    "        return self._balance\n",
    "    \n",
    "    @property\n",
    "    def ledger(self):\n",
    "        # return a copy of the ledger so it cannot be modified from outside\n",
    "        return tuple(self._ledger)  \n",
    "\n",
    "    @property\n",
    "    def is_overdraft_allowed(self):\n",
    "        return self._is_overdraft_allowed\n",
    "    \n",
    "    @is_overdraft_allowed.setter\n",
    "    def is_overdraft_allowed(self, value):\n",
    "        if not isinstance(value, bool):\n",
    "            raise TypeError(\"is_overdraft_allowed must be a boolean\")\n",
    "        self._is_overdraft_allowed = value\n",
    "\n",
    "    def _make_ledger_entry(self, amount, description):\n",
    "        self._ledger.append(f\"{datetime.now()} {description} {amount}; balance {self.balance}\")\n",
    "        print(self.ledger)\n",
    "\n",
    "    def withdraw(self, amount):\n",
    "        if amount < 0:\n",
    "            raise ValueError(\"amount must be positive\")\n",
    "        if amount > self.balance and not self.is_overdraft_allowed:\n",
    "            raise OverdraftNotAllowed(\"amount must be less than or equal to balance\")\n",
    "        self._balance -= amount\n",
    "        self._make_ledger_entry(-amount, \"withdraw\")\n",
    "\n",
    "    def deposit(self, amount):\n",
    "        if amount < 0:\n",
    "            raise ValueError(\"amount must be positive\")\n",
    "        self._balance += amount\n",
    "        self._make_ledger_entry(amount, \"deposit\")\n"
   ]
  },
  {
   "cell_type": "code",
   "execution_count": 2,
   "id": "bd5c9342",
   "metadata": {},
   "outputs": [
    {
     "name": "stdout",
     "output_type": "stream",
     "text": [
      "('2023-06-09 10:32:37.473293 account creation 100; balance 100',)\n"
     ]
    }
   ],
   "source": [
    "account = BankAccount(\"John\", \"Doe\", \"123456789\", 100, False)"
   ]
  },
  {
   "cell_type": "code",
   "execution_count": 42,
   "id": "4151c92c",
   "metadata": {},
   "outputs": [],
   "source": [
    "acc2 = BankAccount(\"Jenny\", \"Smith\", \"123456780\", 100, False)"
   ]
  },
  {
   "cell_type": "code",
   "execution_count": 41,
   "id": "c09fbe38",
   "metadata": {},
   "outputs": [
    {
     "data": {
      "text/plain": [
       "False"
      ]
     },
     "execution_count": 41,
     "metadata": {},
     "output_type": "execute_result"
    }
   ],
   "source": [
    "account is acc2"
   ]
  },
  {
   "cell_type": "code",
   "execution_count": 47,
   "id": "284a543c",
   "metadata": {},
   "outputs": [
    {
     "data": {
      "text/plain": [
       "[]"
      ]
     },
     "execution_count": 47,
     "metadata": {},
     "output_type": "execute_result"
    }
   ],
   "source": [
    "acc2.ledger"
   ]
  },
  {
   "cell_type": "code",
   "execution_count": 20,
   "id": "2b794b5a",
   "metadata": {},
   "outputs": [
    {
     "data": {
      "text/plain": [
       "{'_first_name': 'John',\n",
       " '_last_name': 'Doe',\n",
       " '_account_number': '123456789',\n",
       " '_balance': 100,\n",
       " '_is_overdraft_allowed': False,\n",
       " '_ledger': []}"
      ]
     },
     "execution_count": 20,
     "metadata": {},
     "output_type": "execute_result"
    }
   ],
   "source": [
    "account.__dict__"
   ]
  },
  {
   "cell_type": "code",
   "execution_count": 21,
   "id": "5919832a",
   "metadata": {},
   "outputs": [
    {
     "data": {
      "text/plain": [
       "BankAccount(first_name='John', last_name='Doe', account_number='123456789', balance=100, is_overdraft_allowed=False)"
      ]
     },
     "execution_count": 21,
     "metadata": {},
     "output_type": "execute_result"
    }
   ],
   "source": [
    "account"
   ]
  },
  {
   "cell_type": "code",
   "execution_count": 82,
   "id": "9a8197e7",
   "metadata": {},
   "outputs": [
    {
     "name": "stdout",
     "output_type": "stream",
     "text": [
      "('2023-06-09 10:10:24.574450 withdraw -50; balance 50',)\n"
     ]
    }
   ],
   "source": [
    "account.withdraw(50)"
   ]
  },
  {
   "cell_type": "code",
   "execution_count": 83,
   "id": "0018c517",
   "metadata": {},
   "outputs": [
    {
     "name": "stdout",
     "output_type": "stream",
     "text": [
      "('2023-06-09 10:10:24.574450 withdraw -50; balance 50', '2023-06-09 10:10:31.139445 withdraw -30; balance 20')\n"
     ]
    }
   ],
   "source": [
    "account.withdraw(30)"
   ]
  },
  {
   "cell_type": "code",
   "execution_count": 36,
   "id": "c3319595",
   "metadata": {},
   "outputs": [
    {
     "name": "stdout",
     "output_type": "stream",
     "text": [
      "['2023-06-09 09:44:01.894936 withdraw -50; balance 50', '2023-06-09 09:44:12.994644 withdraw -20; balance 30', '2023-06-09 09:44:39.038206 deposit 100, balance 130']\n"
     ]
    }
   ],
   "source": [
    "account.deposit(100)"
   ]
  },
  {
   "cell_type": "code",
   "execution_count": null,
   "id": "0a46f252",
   "metadata": {},
   "outputs": [],
   "source": []
  }
 ],
 "metadata": {
  "kernelspec": {
   "display_name": "Python 3",
   "language": "python",
   "name": "python3"
  },
  "language_info": {
   "codemirror_mode": {
    "name": "ipython",
    "version": 3
   },
   "file_extension": ".py",
   "mimetype": "text/x-python",
   "name": "python",
   "nbconvert_exporter": "python",
   "pygments_lexer": "ipython3",
   "version": "3.11.3"
  }
 },
 "nbformat": 4,
 "nbformat_minor": 5
}
