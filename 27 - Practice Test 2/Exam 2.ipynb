{
 "cells": [
  {
   "cell_type": "markdown",
   "id": "7d70204d",
   "metadata": {},
   "source": [
    "### Exam 2"
   ]
  },
  {
   "cell_type": "markdown",
   "id": "17ed2a25",
   "metadata": {},
   "source": [
    "#### Q1 - b"
   ]
  },
  {
   "cell_type": "markdown",
   "id": "3fbb15d6",
   "metadata": {},
   "source": [
    "We are creating a list of `(x, y)` coordinate pairs (represented as tuples), based on calculating the `math.sin` function of a given sequence of `x` values. (You can assume that the `math` module has been imported)"
   ]
  },
  {
   "cell_type": "markdown",
   "id": "9fffe246",
   "metadata": {},
   "source": [
    "For example, given:"
   ]
  },
  {
   "cell_type": "code",
   "execution_count": 6,
   "id": "90fe462c",
   "metadata": {},
   "outputs": [],
   "source": [
    "x = [1, 2, 3, 4, 5, 6]"
   ]
  },
  {
   "cell_type": "markdown",
   "id": "9ccae7f9",
   "metadata": {},
   "source": [
    "The return value of calling the function `gen_coords(math.sin, x)` should return:\n",
    "\n",
    "```\n",
    "[(1, 0.8414709848078965),\n",
    " (2, 0.9092974268256817),\n",
    " (3, 0.1411200080598672),\n",
    " (4, -0.7568024953079282),\n",
    " (5, -0.9589242746631385),\n",
    " (6, -0.27941549819892586)]\n",
    "```"
   ]
  },
  {
   "cell_type": "markdown",
   "id": "292779fd",
   "metadata": {},
   "source": [
    "Which of the following functions will work correctly?\n",
    "\n",
    "I.\n",
    "```\n",
    "def gen_coords(fn, x):\n",
    "    return list(zip(x, map(fn, x)))\n",
    "```\n",
    "\n",
    "II.\n",
    "```\n",
    "def gen_coords(fn, x):\n",
    "    return [(v, fn(v)) for v in x]\n",
    "```\n",
    "\n",
    "III.\n",
    "```\n",
    "def gen_coords(fn, x):\n",
    "    return [(v, map(fn, v)) for v in x]\n",
    "```\n",
    "\n",
    "- a. I only\n",
    "- b. I and II only\n",
    "- c. I and III only\n",
    "- d. all of them\n"
   ]
  },
  {
   "cell_type": "code",
   "execution_count": 8,
   "id": "8f26282f",
   "metadata": {},
   "outputs": [
    {
     "data": {
      "text/plain": [
       "[(1, 1), (2, 4), (3, 9), (4, 16), (5, 25), (6, 36)]"
      ]
     },
     "execution_count": 8,
     "metadata": {},
     "output_type": "execute_result"
    }
   ],
   "source": [
    "x = [1, 2, 3, 4, 5, 6]\n",
    "\n",
    "# def gen_coords(fn, x):\n",
    "#     return [(v, map(fn, v)) for v in x]\n",
    "\n",
    "def gen_coords(fn, x):\n",
    "    return list(zip(x, map(fn, x)))\n",
    "\n",
    "def gen_coords(fn, x):\n",
    "    return [(v, fn(v)) for v in x]\n",
    "\n",
    "gen_coords(lambda x: x**2, x)"
   ]
  },
  {
   "cell_type": "markdown",
   "id": "72976192",
   "metadata": {},
   "source": [
    "#### Q2 - c"
   ]
  },
  {
   "cell_type": "markdown",
   "id": "43671b32",
   "metadata": {},
   "source": [
    "The following collection of dictionaries has to be filtered to only include the elements with a `symbol` field equal to`ABC`, and ordered by the difference between high and low in descending order."
   ]
  },
  {
   "cell_type": "code",
   "execution_count": 9,
   "id": "eb61b13e",
   "metadata": {},
   "outputs": [],
   "source": [
    "data = [\n",
    "    {\n",
    "        'symbol': 'ABC',\n",
    "        'date': '1900-01-01',\n",
    "        'high': 100,\n",
    "        'low': 50\n",
    "    },\n",
    "    {\n",
    "        'symbol': 'ABC',\n",
    "        'date': '1900-01-02',\n",
    "        'high': 90,\n",
    "        'low': 60\n",
    "    },\n",
    "    {\n",
    "        'symbol': 'DEF',\n",
    "        'date': '1900-01-01',\n",
    "        'high': 100,\n",
    "        'low': 50\n",
    "    },\n",
    "    {\n",
    "        'symbol': 'ABC',\n",
    "        'date': '1900-01-03',\n",
    "        'high': 120,\n",
    "        'low': 10\n",
    "    },\n",
    "    {\n",
    "        'date': '1900-01-04',\n",
    "        'high': 100,\n",
    "        'low': 90\n",
    "    }\n",
    "]"
   ]
  },
  {
   "cell_type": "markdown",
   "id": "8cf94a90",
   "metadata": {},
   "source": [
    "For this data set, the result should be:"
   ]
  },
  {
   "cell_type": "markdown",
   "id": "ff2b42dd",
   "metadata": {},
   "source": [
    "```\n",
    "[\n",
    "    {\n",
    "        'symbol': 'ABC',\n",
    "        'date': '1900-01-03',\n",
    "        'high': 120,\n",
    "        'low': 10\n",
    "    },\n",
    "    {\n",
    "        'symbol': 'ABC',\n",
    "        'date': '1900-01-01',\n",
    "        'high': 100,\n",
    "        'low': 50\n",
    "    },\n",
    "    {\n",
    "        'symbol': 'ABC',\n",
    "        'date': '1900-01-02',\n",
    "        'high': 90,\n",
    "        'low': 60\n",
    "    }    \n",
    "]\n",
    "```"
   ]
  },
  {
   "cell_type": "markdown",
   "id": "acdb6b23",
   "metadata": {},
   "source": [
    "Which of the following functions will return the desired result?"
   ]
  },
  {
   "cell_type": "markdown",
   "id": "3ab4d858",
   "metadata": {},
   "source": [
    "I.\n",
    "```\n",
    "def extract(data):\n",
    "    pred = lambda d: d.get('symbol') == 'ABC'\n",
    "    filtered = filter(pred, data)\n",
    "    return list(sorted(filtered, key=lambda d: d['high'] - d['low'], reverse=True))\n",
    "```\n",
    "\n",
    "II.\n",
    "```\n",
    "def extract(data):\n",
    "    filtered = filter(lambda d: d['symbol'] == 'AAPL', data)\n",
    "    return list(sorted(filtered, key=lambda d: d['high'] - d['low'], reverse=True))\n",
    "```\n",
    "\n",
    "III.\n",
    "```\n",
    "def extract(data):\n",
    "    filtered = []\n",
    "    for d in data:\n",
    "        if d.get('symbol') == 'ABC':\n",
    "            filtered.append(d)\n",
    "    sort_func = lambda d: d['high'] - d['low']\n",
    "    sorted_data = sorted(filtered, key=sort_func, reverse=True)\n",
    "    return list(sorted_data)\n",
    "```\n",
    "\n",
    "- a. I only\n",
    "- b. I and II only\n",
    "- c. I and III only\n",
    "- d. all of them\n"
   ]
  },
  {
   "cell_type": "code",
   "execution_count": 10,
   "id": "67f4a362",
   "metadata": {},
   "outputs": [
    {
     "data": {
      "text/plain": [
       "[{'symbol': 'ABC', 'date': '1900-01-03', 'high': 120, 'low': 10},\n",
       " {'symbol': 'ABC', 'date': '1900-01-01', 'high': 100, 'low': 50},\n",
       " {'symbol': 'ABC', 'date': '1900-01-02', 'high': 90, 'low': 60}]"
      ]
     },
     "execution_count": 10,
     "metadata": {},
     "output_type": "execute_result"
    }
   ],
   "source": [
    "def extract(data):\n",
    "    filtered = []\n",
    "    for d in data:\n",
    "        if d.get('symbol') == 'ABC':\n",
    "            filtered.append(d)\n",
    "    sort_func = lambda d: d['high'] - d['low']\n",
    "    sorted_data = sorted(filtered, key=sort_func, reverse=True)\n",
    "    return list(sorted_data)\n",
    "\n",
    "extract(data)"
   ]
  },
  {
   "cell_type": "markdown",
   "id": "1bc1a5b7",
   "metadata": {},
   "source": [
    "#### Q3 - d"
   ]
  },
  {
   "cell_type": "markdown",
   "id": "a3c1d832",
   "metadata": {},
   "source": [
    "The following function is meant to be used as a decorator that will convert the result of a function to an ISO formatted date string if the function returns a `datetime` object, and leave the result unaffected otherwise."
   ]
  },
  {
   "cell_type": "markdown",
   "id": "e1647669",
   "metadata": {},
   "source": [
    "```\n",
    "1 from datetime import datetime\n",
    "2 \n",
    "3 def normalize_datetime(fn):\n",
    "4     def inner(*args, **kwargs):\n",
    "5         result = fn(args, kwargs)\n",
    "6         if isinstance(result, datetime):\n",
    "7             result = result.isoformat()\n",
    "8         return fn\n",
    "9     return result\n",
    "```"
   ]
  },
  {
   "cell_type": "markdown",
   "id": "b0f3cc35",
   "metadata": {},
   "source": [
    "However, there are a few things wrong with this function. Which of the following changes should be made to this function for it to work properly:"
   ]
  },
  {
   "cell_type": "markdown",
   "id": "bba4ae98",
   "metadata": {},
   "source": [
    "I. Line 5 should be changed to: `result = fn(*args, **kwargs)`\n",
    "\n",
    "II. Line 8 should be changed to: `return result`\n",
    "\n",
    "III. Line 9 should be changed to: `return inner`\n",
    "\n",
    "\n",
    "- a. I and II only\n",
    "- b. II and III only\n",
    "- c. I and III only\n",
    "- d. all of them\n"
   ]
  },
  {
   "cell_type": "markdown",
   "id": "cbdb0128",
   "metadata": {},
   "source": [
    "#### Q4 - b"
   ]
  },
  {
   "cell_type": "markdown",
   "id": "01b03413",
   "metadata": {},
   "source": [
    "What format string should be used to parse the following string into a `datetime` object using the `datetime.strptime()` function:\n",
    "\n",
    "```\n",
    "t = '8:30pm on the 3rd of March, 2020'\n",
    "```"
   ]
  },
  {
   "cell_type": "markdown",
   "id": "43cf39cc",
   "metadata": {},
   "source": [
    "- a. `'%H:%m%p on the %Drd of %M, %Y'`\n",
    "- b. `'%I:%M%p on the %drd of %B, %Y'`\n",
    "- c. `'%h:%h%p on the %drd of %b, %Y'`\n",
    "- d. `'%I:%M%P on the %drd of %B, %Y'`\n"
   ]
  },
  {
   "cell_type": "code",
   "execution_count": 17,
   "id": "e1d7e3ad",
   "metadata": {},
   "outputs": [
    {
     "data": {
      "text/plain": [
       "datetime.datetime(2020, 3, 3, 20, 30)"
      ]
     },
     "execution_count": 17,
     "metadata": {},
     "output_type": "execute_result"
    }
   ],
   "source": [
    "from datetime import datetime\n",
    "\n",
    "t = '8:30pm on the 3rd of March, 2020'\n",
    "datetime.strptime(t, '%I:%M%p on the %drd of %B, %Y')"
   ]
  },
  {
   "cell_type": "markdown",
   "id": "3b49c9bd",
   "metadata": {},
   "source": [
    "#### Q5 - c"
   ]
  },
  {
   "cell_type": "markdown",
   "id": "f29c9da7",
   "metadata": {},
   "source": [
    "You are writing some code to append lines of text to an existing text file.\n",
    "\n",
    "Which variant of the `open` function should you use:\n",
    "\n",
    "- a. `open(f, 'r')`\n",
    "- b. `open(f, 'w')`\n",
    "- c. `open(f, 'a')`\n",
    "- d. `open(f, 'rw')`\n"
   ]
  },
  {
   "cell_type": "markdown",
   "id": "6db887d8",
   "metadata": {},
   "source": [
    "#### Q6 - b"
   ]
  },
  {
   "cell_type": "markdown",
   "id": "be4e66e6",
   "metadata": {},
   "source": [
    "A CSV file has rows formatted as follows:\n",
    "\n",
    "```\n",
    "'/string-1/- string2- string3-100'\n",
    "```\n",
    "\n",
    "We want to parse this row so that the result should be `['string-1', 'string2', 'string3', '100']`"
   ]
  },
  {
   "cell_type": "markdown",
   "id": "dd05989c",
   "metadata": {},
   "source": [
    "What settings should be used when using Python's CSV reader to parse this file correctly?\n",
    "\n",
    "- a. `csv.reader(file, delimiter='-', quotechar='/', skipinitialspace=False)`\n",
    "- b. `csv.reader(file, delimiter='-', quotechar='/', skipinitialspace=True)`\n",
    "- c. `csv.reader(file, delimiter='/', quotechar='-', skipinitialspace=False)`\n",
    "- d. `csv.reader(file, delimiter='/', quotechar='-', skipinitialspace=True)`\n"
   ]
  },
  {
   "cell_type": "markdown",
   "id": "cf88b1aa",
   "metadata": {},
   "source": [
    "#### Q7 - d"
   ]
  },
  {
   "cell_type": "markdown",
   "id": "39c51e70",
   "metadata": {},
   "source": [
    "Which of the following expressions can be used to generate a random `float` in the interval `[15, 25)` (i.e. the random number `x` should satisfy `15 <= x < 25`)\n",
    "\n",
    "- a. `15 + 25 * random.number()`\n",
    "- b. `10 + 15 * random.number()`\n",
    "- c. `40 * random.number() - 15`\n",
    "- d. `15 + 10 * random.random()`\n"
   ]
  },
  {
   "cell_type": "markdown",
   "id": "f4503e8a",
   "metadata": {},
   "source": [
    "#### Q8 - b"
   ]
  },
  {
   "cell_type": "markdown",
   "id": "5161120e",
   "metadata": {},
   "source": [
    "For this exercise you will need to first set your random seed to `-1` (`random.seed(-1)`)\n",
    "\n",
    "Once you have done this, use the `statistics` module to create a normal distribution centered at `3` with a standard deviation of `5`. Determine the median of a `50` element sample from the distribution (use the distribution object's `sample()` method to extract your sample of `50` elements).\n",
    "\n",
    "The median, rounded to 2 digits after the decimal point is:\n",
    "- a. `3.0`\n",
    "- b. `3.83`\n",
    "- c. `5.0`\n",
    "- d. `2.99`\n"
   ]
  },
  {
   "cell_type": "code",
   "execution_count": 23,
   "id": "350af559",
   "metadata": {},
   "outputs": [
    {
     "name": "stdout",
     "output_type": "stream",
     "text": [
      "Median: 3.36334669321589\n"
     ]
    }
   ],
   "source": [
    "import statistics as stats\n",
    "import random\n",
    "\n",
    "seed = random.seed(-1)\n",
    "# create normal distribution using stats\n",
    "\n",
    "mean = 3\n",
    "std_dev = 5\n",
    "sample_size = 100_000_000  # You can adjust the sample size as needed\n",
    "\n",
    "# Generate a sample of random numbers from a normal distribution\n",
    "data = [random.normalvariate(mean, std_dev) for _ in range(sample_size)]\n",
    "sample = random.sample(data, 50)\n",
    "median = stats.median(sample)\n",
    "print(f'Median: {median}')\n",
    "\n"
   ]
  },
  {
   "cell_type": "code",
   "execution_count": 1,
   "id": "a0fa7ace",
   "metadata": {},
   "outputs": [
    {
     "data": {
      "text/plain": [
       "[<matplotlib.lines.Line2D at 0x116b01a0210>]"
      ]
     },
     "execution_count": 1,
     "metadata": {},
     "output_type": "execute_result"
    },
    {
     "data": {
      "image/png": "[encoded data removed]",
      "text/plain": [
       "<Figure size 640x480 with 1 Axes>"
      ]
     },
     "metadata": {},
     "output_type": "display_data"
    }
   ],
   "source": [
    "import scipy\n",
    "import numpy as np\n",
    "import matplotlib.pyplot as plt\n",
    "\n",
    "seed = random.seed(-1)\n",
    "mean = 0\n",
    "standard_deviation = 5\n",
    "x_values = np. arange(-30, 30, 0.1)\n",
    "y_values = scipy.stats.norm(mean, standard_deviation)\n",
    "plt.plot(x_values, y_values. pdf(x_values))"
   ]
  },
  {
   "cell_type": "code",
   "execution_count": 3,
   "id": "dd8a94e9",
   "metadata": {},
   "outputs": [
    {
     "name": "stdout",
     "output_type": "stream",
     "text": [
      "Sample: [6.0372792882185315, 2.9288727724460757, 9.154536145583304, 8.077405835885681, 1.3177153617467903, 9.087409043249705, -1.2065716344533621, 1.9432948725180428, 0.023266685573694712, -1.4637493885328103, 9.528351208675982, 4.499274106207021, -1.8731388380597416, 9.578113293599577, 9.478067276513812, 11.586517380946436, -1.0896085994079003, 3.110274826463669, -2.2725209086545197, 7.3556209723544415, -3.2163491048445243, 8.3503364582734, 1.0843516296952778, 3.326233192266866, 3.2960093819942693, 2.9089004755617216, 1.8999426502376058, 4.071313813322824, 8.040264419485133, 7.024927744157031, 5.485206448336644, 4.233749149401202, -1.3783653964487588, 8.509185089541209, 3.91705359370358, 3.750385636140162, 3.078610830710942, 1.1214826666682054, 3.8766214271004653, 4.780143830158984, -3.663067448620245, -10.263385825813636, 4.619721416805837, 5.921391171419156, -5.927729553525973, 1.5658177961829494, -3.1775036772063006, -0.9149901275251646, 6.328346607311357, 0.0985928086227541]\n",
      "Median of the Sample: 3.3111212871305677\n"
     ]
    }
   ],
   "source": [
    "import random\n",
    "import statistics\n",
    "\n",
    "# Set the parameters for the normal distribution\n",
    "mu = 3  # Mean (center)\n",
    "sigma = 5  # Standard Deviation\n",
    "\n",
    "# Generate a sample of 50 elements from the normal distribution\n",
    "sample_size = 50\n",
    "sample = [random.normalvariate(mu, sigma) for _ in range(sample_size)]\n",
    "\n",
    "# Calculate the median of the sample using the statistics module\n",
    "median = statistics.median(sample)\n",
    "\n",
    "# Print the results\n",
    "print(\"Sample:\", sample)\n",
    "print(\"Median of the Sample:\", median)\n"
   ]
  },
  {
   "cell_type": "markdown",
   "id": "374064d6",
   "metadata": {},
   "source": [
    "#### Q9 - c"
   ]
  },
  {
   "cell_type": "markdown",
   "id": "fcd6f142",
   "metadata": {},
   "source": [
    "You have this 2-dimensional `Vector` class defined as follows:"
   ]
  },
  {
   "cell_type": "code",
   "execution_count": 3,
   "id": "f91b6d09",
   "metadata": {},
   "outputs": [],
   "source": [
    "class Vector:\n",
    "    def __init__(self, x, y):\n",
    "        self._x = x\n",
    "        self._y = y\n",
    "        \n",
    "    @property\n",
    "    def x(self):\n",
    "        return self._x\n",
    "    \n",
    "    @property \n",
    "    def y(self):\n",
    "        return self._y"
   ]
  },
  {
   "cell_type": "markdown",
   "id": "2592891f",
   "metadata": {},
   "source": [
    "When you print out an instance of this class, Python's default string representation is shown. You would rather have a more specific representation that should result in the **same output** for **both** `repr()` and `str()` of the instance."
   ]
  },
  {
   "cell_type": "markdown",
   "id": "93538f81",
   "metadata": {},
   "source": [
    "For example, if you have a vector:"
   ]
  },
  {
   "cell_type": "code",
   "execution_count": 4,
   "id": "4c6d1100",
   "metadata": {},
   "outputs": [],
   "source": [
    "v = Vector(1, 2)"
   ]
  },
  {
   "cell_type": "markdown",
   "id": "eee0f33f",
   "metadata": {},
   "source": [
    "Then you want the following results:\n",
    "\n",
    "`str(v)` --> `'Vector(1, 2)'`\n",
    "\n",
    "`repr(v)` --> `'Vector(1, 2)'`"
   ]
  },
  {
   "cell_type": "markdown",
   "id": "b384432c",
   "metadata": {},
   "source": [
    "What code can you add to your class to do this:"
   ]
  },
  {
   "cell_type": "markdown",
   "id": "6f2b75c2",
   "metadata": {},
   "source": [
    "I. \n",
    "```\n",
    "def __str__(self):\n",
    "    return f'Vector({self.x}, {self.y})'\n",
    "```\n",
    "\n",
    "II.\n",
    "```\n",
    "def __repr__(self):\n",
    "    return f'Vector({self.x}, {self.y})'\n",
    "```\n",
    "\n",
    "III. \n",
    "```\n",
    "def __str__(self):\n",
    "    return f'Vector({self._x}, {self._y})'\n",
    "```\n",
    "\n",
    "IV.\n",
    "```\n",
    "def __repr__(self):\n",
    "    return f'Vector({self._x}, {self._y})'\n",
    "```\n",
    "\n",
    "\n",
    "- a. I or II only\n",
    "- b. III or IV only\n",
    "- c. II or IV only\n",
    "- d. any of them will work\n"
   ]
  },
  {
   "cell_type": "code",
   "execution_count": 35,
   "id": "9b15d1cb",
   "metadata": {},
   "outputs": [
    {
     "data": {
      "text/plain": [
       "'(1, 2)'"
      ]
     },
     "execution_count": 35,
     "metadata": {},
     "output_type": "execute_result"
    }
   ],
   "source": [
    "class Vector:\n",
    "    def __init__(self, x, y):\n",
    "        self._x = x\n",
    "        self._y = y\n",
    "        \n",
    "    @property\n",
    "    def x(self):\n",
    "        return self._x\n",
    "    \n",
    "    @property \n",
    "    def y(self):\n",
    "        return self._y\n",
    "    \n",
    "    def __repr__(self):\n",
    "        return f'Vector({self.x}, {self.y})'\n",
    "\n",
    "    def __str__(self):\n",
    "        return f'({self.x}, {self.y})'\n",
    "\n",
    "\n",
    "v = Vector(1, 2)\n",
    "\n",
    "str(v)"
   ]
  },
  {
   "cell_type": "code",
   "execution_count": 36,
   "id": "b730bad4",
   "metadata": {},
   "outputs": [
    {
     "data": {
      "text/plain": [
       "'Vector(1, 2)'"
      ]
     },
     "execution_count": 36,
     "metadata": {},
     "output_type": "execute_result"
    }
   ],
   "source": [
    "repr(v)"
   ]
  },
  {
   "cell_type": "code",
   "execution_count": 37,
   "id": "79d13158",
   "metadata": {},
   "outputs": [
    {
     "data": {
      "text/plain": [
       "'(1, 2)'"
      ]
     },
     "execution_count": 37,
     "metadata": {},
     "output_type": "execute_result"
    }
   ],
   "source": [
    "v.__str__()"
   ]
  },
  {
   "cell_type": "markdown",
   "id": "aac090c2",
   "metadata": {},
   "source": [
    "#### Q10 - c"
   ]
  },
  {
   "cell_type": "markdown",
   "id": "07ee9b72",
   "metadata": {},
   "source": [
    "Continuing with the `Vector` class defined in the previous question, we want to implement equality of two instances of `Vector` such that two instances are considered equal if:\n",
    "- they are both instances of `Vector`\n",
    "- the `x` components of each vector are equal, and the `y` components of each vector are equal"
   ]
  },
  {
   "cell_type": "markdown",
   "id": "32702448",
   "metadata": {},
   "source": [
    "Once you have implemented this functionality, then:\n",
    "\n",
    "```\n",
    "Vector(1, 2) == Vector(1, 2)\n",
    "```\n",
    "\n",
    "should evaluate to `True`"
   ]
  },
  {
   "cell_type": "markdown",
   "id": "53d26999",
   "metadata": {},
   "source": [
    "Which of the following additions to your class could implement this behavior:"
   ]
  },
  {
   "cell_type": "markdown",
   "id": "5f467bfe",
   "metadata": {},
   "source": [
    "I.\n",
    "```\n",
    "def __eq__(self, other):\n",
    "    return self == other\n",
    "```\n",
    "\n",
    "II.\n",
    "```\n",
    "def __eq__(self, other):\n",
    "    return isinstance(other, Vector)\n",
    "```\n",
    "\n",
    "III.\n",
    "```\n",
    "def __eq__(self, other):\n",
    "    if (\n",
    "        isinstance(other, Vector) \n",
    "        and self.x == other.x \n",
    "        and self.y == other.y\n",
    "    ):\n",
    "        return True\n",
    "    return False\n",
    "```\n",
    "\n",
    "- a. I only\n",
    "- b. II only\n",
    "- c. III only\n",
    "- d. none of them\n"
   ]
  }
 ],
 "metadata": {
  "kernelspec": {
   "display_name": "Python 3 (ipykernel)",
   "language": "python",
   "name": "python3"
  },
  "language_info": {
   "codemirror_mode": {
    "name": "ipython",
    "version": 3
   },
   "file_extension": ".py",
   "mimetype": "text/x-python",
   "name": "python",
   "nbconvert_exporter": "python",
   "pygments_lexer": "ipython3",
   "version": "3.11.4"
  }
 },
 "nbformat": 4,
 "nbformat_minor": 5
}
